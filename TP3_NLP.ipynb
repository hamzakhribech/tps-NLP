{
  "nbformat": 4,
  "nbformat_minor": 0,
  "metadata": {
    "colab": {
      "provenance": []
    },
    "kernelspec": {
      "name": "python3",
      "display_name": "Python 3"
    },
    "language_info": {
      "name": "python"
    }
  },
  "cells": [
    {
      "cell_type": "markdown",
      "source": [
        "# Part 1: Loading the Dataset"
      ],
      "metadata": {
        "id": "OHlhSc96lyUR"
      }
    },
    {
      "cell_type": "code",
      "source": [
        "import pandas as pd\n",
        "\n",
        "# Load the dataset\n",
        "data = pd.read_csv(\"movie_review.csv\")\n",
        "\n",
        "# Display the first few rows of the dataset\n",
        "data.head()"
      ],
      "metadata": {
        "colab": {
          "base_uri": "https://localhost:8080/",
          "height": 206
        },
        "id": "o1jZshvcHq-9",
        "outputId": "a1e97b9c-7ca9-4b5b-f009-0ecd9b865fc7"
      },
      "execution_count": 2,
      "outputs": [
        {
          "output_type": "execute_result",
          "data": {
            "text/plain": [
              "   fold_id cv_tag  html_id  sent_id  \\\n",
              "0        0  cv000    29590        0   \n",
              "1        0  cv000    29590        1   \n",
              "2        0  cv000    29590        2   \n",
              "3        0  cv000    29590        3   \n",
              "4        0  cv000    29590        4   \n",
              "\n",
              "                                                text  tag  \n",
              "0  films adapted from comic books have had plenty...  pos  \n",
              "1  for starters , it was created by alan moore ( ...  pos  \n",
              "2  to say moore and campbell thoroughly researche...  pos  \n",
              "3  the book ( or \" graphic novel , \" if you will ...  pos  \n",
              "4  in other words , don't dismiss this film becau...  pos  "
            ],
            "text/html": [
              "\n",
              "  <div id=\"df-8af42cbb-e683-48c8-934c-e458d66dd897\" class=\"colab-df-container\">\n",
              "    <div>\n",
              "<style scoped>\n",
              "    .dataframe tbody tr th:only-of-type {\n",
              "        vertical-align: middle;\n",
              "    }\n",
              "\n",
              "    .dataframe tbody tr th {\n",
              "        vertical-align: top;\n",
              "    }\n",
              "\n",
              "    .dataframe thead th {\n",
              "        text-align: right;\n",
              "    }\n",
              "</style>\n",
              "<table border=\"1\" class=\"dataframe\">\n",
              "  <thead>\n",
              "    <tr style=\"text-align: right;\">\n",
              "      <th></th>\n",
              "      <th>fold_id</th>\n",
              "      <th>cv_tag</th>\n",
              "      <th>html_id</th>\n",
              "      <th>sent_id</th>\n",
              "      <th>text</th>\n",
              "      <th>tag</th>\n",
              "    </tr>\n",
              "  </thead>\n",
              "  <tbody>\n",
              "    <tr>\n",
              "      <th>0</th>\n",
              "      <td>0</td>\n",
              "      <td>cv000</td>\n",
              "      <td>29590</td>\n",
              "      <td>0</td>\n",
              "      <td>films adapted from comic books have had plenty...</td>\n",
              "      <td>pos</td>\n",
              "    </tr>\n",
              "    <tr>\n",
              "      <th>1</th>\n",
              "      <td>0</td>\n",
              "      <td>cv000</td>\n",
              "      <td>29590</td>\n",
              "      <td>1</td>\n",
              "      <td>for starters , it was created by alan moore ( ...</td>\n",
              "      <td>pos</td>\n",
              "    </tr>\n",
              "    <tr>\n",
              "      <th>2</th>\n",
              "      <td>0</td>\n",
              "      <td>cv000</td>\n",
              "      <td>29590</td>\n",
              "      <td>2</td>\n",
              "      <td>to say moore and campbell thoroughly researche...</td>\n",
              "      <td>pos</td>\n",
              "    </tr>\n",
              "    <tr>\n",
              "      <th>3</th>\n",
              "      <td>0</td>\n",
              "      <td>cv000</td>\n",
              "      <td>29590</td>\n",
              "      <td>3</td>\n",
              "      <td>the book ( or \" graphic novel , \" if you will ...</td>\n",
              "      <td>pos</td>\n",
              "    </tr>\n",
              "    <tr>\n",
              "      <th>4</th>\n",
              "      <td>0</td>\n",
              "      <td>cv000</td>\n",
              "      <td>29590</td>\n",
              "      <td>4</td>\n",
              "      <td>in other words , don't dismiss this film becau...</td>\n",
              "      <td>pos</td>\n",
              "    </tr>\n",
              "  </tbody>\n",
              "</table>\n",
              "</div>\n",
              "    <div class=\"colab-df-buttons\">\n",
              "\n",
              "  <div class=\"colab-df-container\">\n",
              "    <button class=\"colab-df-convert\" onclick=\"convertToInteractive('df-8af42cbb-e683-48c8-934c-e458d66dd897')\"\n",
              "            title=\"Convert this dataframe to an interactive table.\"\n",
              "            style=\"display:none;\">\n",
              "\n",
              "  <svg xmlns=\"http://www.w3.org/2000/svg\" height=\"24px\" viewBox=\"0 -960 960 960\">\n",
              "    <path d=\"M120-120v-720h720v720H120Zm60-500h600v-160H180v160Zm220 220h160v-160H400v160Zm0 220h160v-160H400v160ZM180-400h160v-160H180v160Zm440 0h160v-160H620v160ZM180-180h160v-160H180v160Zm440 0h160v-160H620v160Z\"/>\n",
              "  </svg>\n",
              "    </button>\n",
              "\n",
              "  <style>\n",
              "    .colab-df-container {\n",
              "      display:flex;\n",
              "      gap: 12px;\n",
              "    }\n",
              "\n",
              "    .colab-df-convert {\n",
              "      background-color: #E8F0FE;\n",
              "      border: none;\n",
              "      border-radius: 50%;\n",
              "      cursor: pointer;\n",
              "      display: none;\n",
              "      fill: #1967D2;\n",
              "      height: 32px;\n",
              "      padding: 0 0 0 0;\n",
              "      width: 32px;\n",
              "    }\n",
              "\n",
              "    .colab-df-convert:hover {\n",
              "      background-color: #E2EBFA;\n",
              "      box-shadow: 0px 1px 2px rgba(60, 64, 67, 0.3), 0px 1px 3px 1px rgba(60, 64, 67, 0.15);\n",
              "      fill: #174EA6;\n",
              "    }\n",
              "\n",
              "    .colab-df-buttons div {\n",
              "      margin-bottom: 4px;\n",
              "    }\n",
              "\n",
              "    [theme=dark] .colab-df-convert {\n",
              "      background-color: #3B4455;\n",
              "      fill: #D2E3FC;\n",
              "    }\n",
              "\n",
              "    [theme=dark] .colab-df-convert:hover {\n",
              "      background-color: #434B5C;\n",
              "      box-shadow: 0px 1px 3px 1px rgba(0, 0, 0, 0.15);\n",
              "      filter: drop-shadow(0px 1px 2px rgba(0, 0, 0, 0.3));\n",
              "      fill: #FFFFFF;\n",
              "    }\n",
              "  </style>\n",
              "\n",
              "    <script>\n",
              "      const buttonEl =\n",
              "        document.querySelector('#df-8af42cbb-e683-48c8-934c-e458d66dd897 button.colab-df-convert');\n",
              "      buttonEl.style.display =\n",
              "        google.colab.kernel.accessAllowed ? 'block' : 'none';\n",
              "\n",
              "      async function convertToInteractive(key) {\n",
              "        const element = document.querySelector('#df-8af42cbb-e683-48c8-934c-e458d66dd897');\n",
              "        const dataTable =\n",
              "          await google.colab.kernel.invokeFunction('convertToInteractive',\n",
              "                                                    [key], {});\n",
              "        if (!dataTable) return;\n",
              "\n",
              "        const docLinkHtml = 'Like what you see? Visit the ' +\n",
              "          '<a target=\"_blank\" href=https://colab.research.google.com/notebooks/data_table.ipynb>data table notebook</a>'\n",
              "          + ' to learn more about interactive tables.';\n",
              "        element.innerHTML = '';\n",
              "        dataTable['output_type'] = 'display_data';\n",
              "        await google.colab.output.renderOutput(dataTable, element);\n",
              "        const docLink = document.createElement('div');\n",
              "        docLink.innerHTML = docLinkHtml;\n",
              "        element.appendChild(docLink);\n",
              "      }\n",
              "    </script>\n",
              "  </div>\n",
              "\n",
              "\n",
              "<div id=\"df-99534b44-a262-4ecb-88af-50a7d1dc240f\">\n",
              "  <button class=\"colab-df-quickchart\" onclick=\"quickchart('df-99534b44-a262-4ecb-88af-50a7d1dc240f')\"\n",
              "            title=\"Suggest charts\"\n",
              "            style=\"display:none;\">\n",
              "\n",
              "<svg xmlns=\"http://www.w3.org/2000/svg\" height=\"24px\"viewBox=\"0 0 24 24\"\n",
              "     width=\"24px\">\n",
              "    <g>\n",
              "        <path d=\"M19 3H5c-1.1 0-2 .9-2 2v14c0 1.1.9 2 2 2h14c1.1 0 2-.9 2-2V5c0-1.1-.9-2-2-2zM9 17H7v-7h2v7zm4 0h-2V7h2v10zm4 0h-2v-4h2v4z\"/>\n",
              "    </g>\n",
              "</svg>\n",
              "  </button>\n",
              "\n",
              "<style>\n",
              "  .colab-df-quickchart {\n",
              "      --bg-color: #E8F0FE;\n",
              "      --fill-color: #1967D2;\n",
              "      --hover-bg-color: #E2EBFA;\n",
              "      --hover-fill-color: #174EA6;\n",
              "      --disabled-fill-color: #AAA;\n",
              "      --disabled-bg-color: #DDD;\n",
              "  }\n",
              "\n",
              "  [theme=dark] .colab-df-quickchart {\n",
              "      --bg-color: #3B4455;\n",
              "      --fill-color: #D2E3FC;\n",
              "      --hover-bg-color: #434B5C;\n",
              "      --hover-fill-color: #FFFFFF;\n",
              "      --disabled-bg-color: #3B4455;\n",
              "      --disabled-fill-color: #666;\n",
              "  }\n",
              "\n",
              "  .colab-df-quickchart {\n",
              "    background-color: var(--bg-color);\n",
              "    border: none;\n",
              "    border-radius: 50%;\n",
              "    cursor: pointer;\n",
              "    display: none;\n",
              "    fill: var(--fill-color);\n",
              "    height: 32px;\n",
              "    padding: 0;\n",
              "    width: 32px;\n",
              "  }\n",
              "\n",
              "  .colab-df-quickchart:hover {\n",
              "    background-color: var(--hover-bg-color);\n",
              "    box-shadow: 0 1px 2px rgba(60, 64, 67, 0.3), 0 1px 3px 1px rgba(60, 64, 67, 0.15);\n",
              "    fill: var(--button-hover-fill-color);\n",
              "  }\n",
              "\n",
              "  .colab-df-quickchart-complete:disabled,\n",
              "  .colab-df-quickchart-complete:disabled:hover {\n",
              "    background-color: var(--disabled-bg-color);\n",
              "    fill: var(--disabled-fill-color);\n",
              "    box-shadow: none;\n",
              "  }\n",
              "\n",
              "  .colab-df-spinner {\n",
              "    border: 2px solid var(--fill-color);\n",
              "    border-color: transparent;\n",
              "    border-bottom-color: var(--fill-color);\n",
              "    animation:\n",
              "      spin 1s steps(1) infinite;\n",
              "  }\n",
              "\n",
              "  @keyframes spin {\n",
              "    0% {\n",
              "      border-color: transparent;\n",
              "      border-bottom-color: var(--fill-color);\n",
              "      border-left-color: var(--fill-color);\n",
              "    }\n",
              "    20% {\n",
              "      border-color: transparent;\n",
              "      border-left-color: var(--fill-color);\n",
              "      border-top-color: var(--fill-color);\n",
              "    }\n",
              "    30% {\n",
              "      border-color: transparent;\n",
              "      border-left-color: var(--fill-color);\n",
              "      border-top-color: var(--fill-color);\n",
              "      border-right-color: var(--fill-color);\n",
              "    }\n",
              "    40% {\n",
              "      border-color: transparent;\n",
              "      border-right-color: var(--fill-color);\n",
              "      border-top-color: var(--fill-color);\n",
              "    }\n",
              "    60% {\n",
              "      border-color: transparent;\n",
              "      border-right-color: var(--fill-color);\n",
              "    }\n",
              "    80% {\n",
              "      border-color: transparent;\n",
              "      border-right-color: var(--fill-color);\n",
              "      border-bottom-color: var(--fill-color);\n",
              "    }\n",
              "    90% {\n",
              "      border-color: transparent;\n",
              "      border-bottom-color: var(--fill-color);\n",
              "    }\n",
              "  }\n",
              "</style>\n",
              "\n",
              "  <script>\n",
              "    async function quickchart(key) {\n",
              "      const quickchartButtonEl =\n",
              "        document.querySelector('#' + key + ' button');\n",
              "      quickchartButtonEl.disabled = true;  // To prevent multiple clicks.\n",
              "      quickchartButtonEl.classList.add('colab-df-spinner');\n",
              "      try {\n",
              "        const charts = await google.colab.kernel.invokeFunction(\n",
              "            'suggestCharts', [key], {});\n",
              "      } catch (error) {\n",
              "        console.error('Error during call to suggestCharts:', error);\n",
              "      }\n",
              "      quickchartButtonEl.classList.remove('colab-df-spinner');\n",
              "      quickchartButtonEl.classList.add('colab-df-quickchart-complete');\n",
              "    }\n",
              "    (() => {\n",
              "      let quickchartButtonEl =\n",
              "        document.querySelector('#df-99534b44-a262-4ecb-88af-50a7d1dc240f button');\n",
              "      quickchartButtonEl.style.display =\n",
              "        google.colab.kernel.accessAllowed ? 'block' : 'none';\n",
              "    })();\n",
              "  </script>\n",
              "</div>\n",
              "\n",
              "    </div>\n",
              "  </div>\n"
            ],
            "application/vnd.google.colaboratory.intrinsic+json": {
              "type": "dataframe",
              "variable_name": "data",
              "summary": "{\n  \"name\": \"data\",\n  \"rows\": 64720,\n  \"fields\": [\n    {\n      \"column\": \"fold_id\",\n      \"properties\": {\n        \"dtype\": \"number\",\n        \"std\": 2,\n        \"min\": 0,\n        \"max\": 9,\n        \"num_unique_values\": 10,\n        \"samples\": [\n          8,\n          1,\n          5\n        ],\n        \"semantic_type\": \"\",\n        \"description\": \"\"\n      }\n    },\n    {\n      \"column\": \"cv_tag\",\n      \"properties\": {\n        \"dtype\": \"category\",\n        \"num_unique_values\": 1000,\n        \"samples\": [\n          \"cv521\",\n          \"cv737\",\n          \"cv740\"\n        ],\n        \"semantic_type\": \"\",\n        \"description\": \"\"\n      }\n    },\n    {\n      \"column\": \"html_id\",\n      \"properties\": {\n        \"dtype\": \"number\",\n        \"std\": 7175,\n        \"min\": 42,\n        \"max\": 29867,\n        \"num_unique_values\": 2000,\n        \"samples\": [\n          15520,\n          18159,\n          9443\n        ],\n        \"semantic_type\": \"\",\n        \"description\": \"\"\n      }\n    },\n    {\n      \"column\": \"sent_id\",\n      \"properties\": {\n        \"dtype\": \"number\",\n        \"std\": 15,\n        \"min\": 0,\n        \"max\": 111,\n        \"num_unique_values\": 112,\n        \"samples\": [\n          40,\n          65,\n          4\n        ],\n        \"semantic_type\": \"\",\n        \"description\": \"\"\n      }\n    },\n    {\n      \"column\": \"text\",\n      \"properties\": {\n        \"dtype\": \"string\",\n        \"num_unique_values\": 63652,\n        \"samples\": [\n          \"the high schoolers are presented as a uniformly screwed up lot--bored with life , not much ambition , promiscuous , profane .\",\n          \"finally , after many very small parts in direct to video garbage and minor tv roles , steiger is back on the big screen in a real movie that many people will see .\",\n          \"some of the more outlandish comedy scenes even hark back to his \\\" early , funny \\\" films .\"\n        ],\n        \"semantic_type\": \"\",\n        \"description\": \"\"\n      }\n    },\n    {\n      \"column\": \"tag\",\n      \"properties\": {\n        \"dtype\": \"category\",\n        \"num_unique_values\": 2,\n        \"samples\": [\n          \"neg\",\n          \"pos\"\n        ],\n        \"semantic_type\": \"\",\n        \"description\": \"\"\n      }\n    }\n  ]\n}"
            }
          },
          "metadata": {},
          "execution_count": 2
        }
      ]
    },
    {
      "cell_type": "markdown",
      "source": [
        "# Part 2: Preprocessing the Text Data"
      ],
      "metadata": {
        "id": "jiWB-t5kl3ut"
      }
    },
    {
      "cell_type": "code",
      "source": [
        "import pandas as pd\n",
        "import nltk\n",
        "from nltk.corpus import stopwords\n",
        "from nltk.tokenize import word_tokenize\n",
        "import string\n",
        "\n",
        "nltk.download('stopwords')\n",
        "nltk.download('punkt')\n",
        "\n",
        "df = pd.read_csv('movie_review.csv')\n",
        "\n",
        "stop_words = set(stopwords.words('english'))\n",
        "punctuation = set(string.punctuation)\n",
        "\n",
        "def preprocess_text(text):\n",
        "    tokens = word_tokenize(text)\n",
        "    tokens = [word.lower() for word in tokens if word.lower() not in punctuation]\n",
        "    tokens = [word for word in tokens if word not in stop_words]\n",
        "    preprocessed_text = ' '.join(tokens)\n",
        "    return preprocessed_text\n",
        "\n",
        "\n",
        "df['Preprocessed_Text'] = df['text'].apply(preprocess_text)\n",
        "\n",
        "print(df[['text', 'Preprocessed_Text']])\n"
      ],
      "metadata": {
        "colab": {
          "base_uri": "https://localhost:8080/"
        },
        "id": "u8u09BFSGY_7",
        "outputId": "761c15f0-ed44-429d-90be-f7d76eef1626"
      },
      "execution_count": 7,
      "outputs": [
        {
          "output_type": "stream",
          "name": "stderr",
          "text": [
            "[nltk_data] Downloading package stopwords to /root/nltk_data...\n",
            "[nltk_data]   Package stopwords is already up-to-date!\n",
            "[nltk_data] Downloading package punkt to /root/nltk_data...\n",
            "[nltk_data]   Package punkt is already up-to-date!\n"
          ]
        },
        {
          "output_type": "stream",
          "name": "stdout",
          "text": [
            "                                                    text  \\\n",
            "0      films adapted from comic books have had plenty...   \n",
            "1      for starters , it was created by alan moore ( ...   \n",
            "2      to say moore and campbell thoroughly researche...   \n",
            "3      the book ( or \" graphic novel , \" if you will ...   \n",
            "4      in other words , don't dismiss this film becau...   \n",
            "...                                                  ...   \n",
            "64715  that lack of inspiration can be traced back to...   \n",
            "64716  like too many of the skits on the current inca...   \n",
            "64717  after watching one of the \" roxbury \" skits on...   \n",
            "64718   bump unsuspecting women , and . . . that's all .   \n",
            "64719  after watching _a_night_at_the_roxbury_ , you'...   \n",
            "\n",
            "                                       Preprocessed_Text  \n",
            "0      films adapted comic books plenty success wheth...  \n",
            "1      starters created alan moore eddie campbell bro...  \n",
            "2      say moore campbell thoroughly researched subje...  \n",
            "3      book `` graphic novel `` 500 pages long includ...  \n",
            "4                          words n't dismiss film source  \n",
            "...                                                  ...  \n",
            "64715    lack inspiration traced back insipid characters  \n",
            "64716  like many skits current incarnation _saturday_...  \n",
            "64717  watching one `` roxbury `` skits snl come away...  \n",
            "64718                         bump unsuspecting women 's  \n",
            "64719  watching _a_night_at_the_roxbury_ 'll left exa...  \n",
            "\n",
            "[64720 rows x 2 columns]\n"
          ]
        }
      ]
    },
    {
      "cell_type": "markdown",
      "source": [
        "# Part 3: Training the Word2Vec Model"
      ],
      "metadata": {
        "id": "jr7nWeYDopEX"
      }
    },
    {
      "cell_type": "code",
      "source": [
        "from gensim.models import Word2Vec\n",
        "\n",
        "\n",
        "tokenized_texts = [text.split() for text in df['Preprocessed_Text']]\n",
        "\n",
        "vector_size = 100\n",
        "window = 5\n",
        "min_count = 1\n",
        "sg = 0\n",
        "epochs = 10\n",
        "\n",
        "\n",
        "model = Word2Vec(sentences=tokenized_texts,\n",
        "                 vector_size=vector_size,\n",
        "                 window=window,\n",
        "                 min_count=min_count,\n",
        "                 sg=sg,\n",
        "                 epochs=epochs)\n",
        "\n",
        "\n",
        "print(\"Vecteur du mot 'movie':\", model.wv['movie'])"
      ],
      "metadata": {
        "colab": {
          "base_uri": "https://localhost:8080/"
        },
        "id": "6dyHuY9HovwX",
        "outputId": "24dc15f8-4f7d-4af5-e94f-9952a246e7d6"
      },
      "execution_count": 16,
      "outputs": [
        {
          "output_type": "stream",
          "name": "stdout",
          "text": [
            "Vecteur du mot 'movie': [-1.7579561   0.8204106  -0.2520395  -0.29048958  0.9601521  -1.1847149\n",
            "  0.24561419  1.6537014  -0.46935317  0.32090178 -1.4048069  -0.40104583\n",
            "  0.34730753  0.7429444   0.6778333  -1.539828    0.07763768  0.1657531\n",
            " -0.6126682  -0.7128043   0.0501584  -1.0626408   0.26205355 -0.36383516\n",
            " -1.0583227   0.16971242 -0.14686173  1.1350888  -1.3722883   0.77056944\n",
            "  2.4434888  -0.11999991 -0.50902224 -0.20351736 -1.4583368   0.88750255\n",
            " -1.0474039  -0.09643658  0.53928256 -0.8366357  -0.28735015 -0.11685587\n",
            " -1.1859741   1.1382133  -0.31179678 -0.62790304  0.38889626 -0.6626972\n",
            "  0.5801985   0.10273264  1.0088845  -0.64862955 -0.31599367  0.22346593\n",
            " -1.0785545  -0.23629595 -0.9543879  -1.5302505  -0.6836411  -1.5298994\n",
            "  0.49084854 -1.0347214   2.3777354  -0.21714005 -1.0487622   0.96559477\n",
            "  1.433617    1.1616608  -1.5889504   2.113356   -0.6458081   1.6034992\n",
            "  0.66899323 -0.15659037  2.0948284   0.5385528  -0.8746524   1.2902334\n",
            " -0.2816932   0.12473442  0.05595713 -0.64138377 -2.010983   -0.21214564\n",
            " -0.95092815 -0.64799416  1.0263754   0.6940365  -0.2799076  -0.2984655\n",
            "  1.668391    0.4682409   0.4471155  -0.86656505  1.64533    -1.2860261\n",
            "  1.159246   -0.55218107  0.00558491 -1.3299032 ]\n"
          ]
        }
      ]
    },
    {
      "cell_type": "markdown",
      "source": [
        "# Part 4: Vectorization of Movie Reviews"
      ],
      "metadata": {
        "id": "OUnFoOxBp2Cn"
      }
    },
    {
      "cell_type": "markdown",
      "source": [],
      "metadata": {
        "id": "sAfy_UGAoTqP"
      }
    },
    {
      "cell_type": "code",
      "source": [
        "import numpy as np\n",
        "\n",
        "\n",
        "def get_review_vector(review, model, vector_size):\n",
        "\n",
        "    words = [word for word in review.split() if word in model.wv.key_to_index]\n",
        "    if not words:\n",
        "        return np.zeros(vector_size)\n",
        "    word_vectors = [model.wv[word] for word in words]\n",
        "    review_vector = np.mean(word_vectors, axis=0)\n",
        "    return review_vector\n",
        "\n",
        "df['Review_Vector'] = df['Preprocessed_Text'].apply(lambda x: get_review_vector(x, model, vector_size))\n",
        "\n",
        "print(df[['Preprocessed_Text', 'Review_Vector']])"
      ],
      "metadata": {
        "colab": {
          "base_uri": "https://localhost:8080/"
        },
        "id": "l7QCe6f4H7rE",
        "outputId": "69bb5bda-9993-4811-95fc-704a66b86d71"
      },
      "execution_count": 19,
      "outputs": [
        {
          "output_type": "stream",
          "name": "stdout",
          "text": [
            "                                       Preprocessed_Text  \\\n",
            "0      films adapted comic books plenty success wheth...   \n",
            "1      starters created alan moore eddie campbell bro...   \n",
            "2      say moore campbell thoroughly researched subje...   \n",
            "3      book `` graphic novel `` 500 pages long includ...   \n",
            "4                          words n't dismiss film source   \n",
            "...                                                  ...   \n",
            "64715    lack inspiration traced back insipid characters   \n",
            "64716  like many skits current incarnation _saturday_...   \n",
            "64717  watching one `` roxbury `` skits snl come away...   \n",
            "64718                         bump unsuspecting women 's   \n",
            "64719  watching _a_night_at_the_roxbury_ 'll left exa...   \n",
            "\n",
            "                                           Review_Vector  \n",
            "0      [-0.4313996, 0.51210254, 0.30550045, 0.1692234...  \n",
            "1      [-0.16296287, 0.37788075, 0.18781002, 0.430605...  \n",
            "2      [0.014069708, 0.68756, 0.517141, 0.20507681, -...  \n",
            "3      [-0.29285327, 0.43872818, 0.4871541, 0.4761540...  \n",
            "4      [-0.6399752, 0.80964696, 0.12038769, -0.089304...  \n",
            "...                                                  ...  \n",
            "64715  [0.11464765, 0.701664, 0.25318682, -0.03909858...  \n",
            "64716  [-0.15236638, 0.58293205, 0.4649703, 0.1438726...  \n",
            "64717  [-0.22389422, 0.73255384, 1.0585871, 0.1379959...  \n",
            "64718  [-0.1702775, 0.28308526, 0.73406017, -0.047278...  \n",
            "64719  [-0.44761688, 0.570115, 0.17782108, 0.02551345...  \n",
            "\n",
            "[64720 rows x 2 columns]\n"
          ]
        }
      ]
    },
    {
      "cell_type": "markdown",
      "source": [
        "# Part 5: Splitting the Data into Training and Testing Sets"
      ],
      "metadata": {
        "id": "zjZjMxnuqF3h"
      }
    },
    {
      "cell_type": "code",
      "execution_count": 31,
      "metadata": {
        "colab": {
          "base_uri": "https://localhost:8080/"
        },
        "id": "2uKaZ2qpD9CE",
        "outputId": "f8416308-c583-42b1-f039-2294c5dac21a"
      },
      "outputs": [
        {
          "output_type": "stream",
          "name": "stdout",
          "text": [
            "Taille de l'ensemble d'entraînement : 51776\n",
            "Taille de l'ensemble de test : 12944\n"
          ]
        }
      ],
      "source": [
        "# Calculate the sizes of the training and testing sets\n",
        "total_rows = len(df)\n",
        "train_size = int(0.8 * total_rows)\n",
        "test_size = total_rows - train_size\n",
        "\n",
        "# Shuffle the indices of the DataFrame\n",
        "shuffled_indices = np.random.permutation(df.index)\n",
        "\n",
        "# Split the indices into training and testing sets\n",
        "train_indices = shuffled_indices[:train_size]\n",
        "test_indices = shuffled_indices[train_size:]\n",
        "\n",
        "# Create the training and testing sets\n",
        "train_data = df.iloc[train_indices]\n",
        "test_data = df.iloc[test_indices]\n",
        "\n",
        "# Print the sizes of the training and testing sets\n",
        "print(\"Taille de l'ensemble d'entraînement :\", len(train_data))\n",
        "print(\"Taille de l'ensemble de test :\", len(test_data))\n"
      ]
    },
    {
      "cell_type": "markdown",
      "source": [
        "# Part 6: Building a Classifier (Logistic Regression)"
      ],
      "metadata": {
        "id": "J-UTOvG3qnL_"
      }
    },
    {
      "cell_type": "code",
      "source": [
        "from sklearn.linear_model import LogisticRegression\n",
        "\n",
        "\n",
        "X_train = np.vstack(train_data['Review_Vector'].values)\n",
        "y_train = train_data['tag']\n",
        "X_test = np.vstack(test_data['Review_Vector'].values)\n",
        "y_test = test_data['tag']\n",
        "\n",
        "logistic_model = LogisticRegression(max_iter=1000, random_state=42)\n",
        "\n",
        "\n",
        "logistic_model.fit(X_train, y_train)\n",
        "\n",
        "\n",
        "y_pred = logistic_model.predict(X_test)\n",
        "print(y_pred)"
      ],
      "metadata": {
        "colab": {
          "base_uri": "https://localhost:8080/"
        },
        "id": "I9X_S7tgqpF3",
        "outputId": "a4e6dce1-999c-4d5e-aaad-88487425789b"
      },
      "execution_count": 28,
      "outputs": [
        {
          "output_type": "stream",
          "name": "stdout",
          "text": [
            "['neg' 'pos' 'neg' ... 'neg' 'pos' 'pos']\n"
          ]
        }
      ]
    },
    {
      "cell_type": "markdown",
      "source": [
        "# Part 7: Evaluating the Model"
      ],
      "metadata": {
        "id": "s54o1gi-snO3"
      }
    },
    {
      "cell_type": "code",
      "source": [
        "from sklearn.metrics import accuracy_score, precision_score, recall_score, f1_score, classification_report\n",
        "\n",
        "\n",
        "y_pred = logistic_model.predict(X_test)\n",
        "\n",
        "accuracy = accuracy_score(y_test, y_pred)\n",
        "\n",
        "\n",
        "\n",
        "precision = precision_score(y_test, y_pred, pos_label='pos')\n",
        "recall = recall_score(y_test, y_pred, pos_label='pos')\n",
        "f1 = f1_score(y_test, y_pred, pos_label='pos')\n",
        "\n",
        "print(\"Accuracy :\", accuracy)\n",
        "print(\"Precision :\", precision)\n",
        "print(\"Recall :\", recall)"
      ],
      "metadata": {
        "colab": {
          "base_uri": "https://localhost:8080/"
        },
        "id": "Oh8hZjJxsqzH",
        "outputId": "3d88bdfe-4973-43a0-c3d9-0c5f59089f6a"
      },
      "execution_count": 33,
      "outputs": [
        {
          "output_type": "stream",
          "name": "stdout",
          "text": [
            "Accuracy : 0.5862175525339925\n",
            "Precision : 0.5833219224976037\n",
            "Recall : 0.6481058877225011\n"
          ]
        }
      ]
    }
  ]
}