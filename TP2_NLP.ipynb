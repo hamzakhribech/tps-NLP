{
  "nbformat": 4,
  "nbformat_minor": 0,
  "metadata": {
    "colab": {
      "provenance": []
    },
    "kernelspec": {
      "name": "python3",
      "display_name": "Python 3"
    },
    "language_info": {
      "name": "python"
    }
  },
  "cells": [
    {
      "cell_type": "markdown",
      "source": [
        "# Analyse du fichier et traitement préliminaire du texte."
      ],
      "metadata": {
        "id": "RVZsyCmds6o8"
      }
    },
    {
      "cell_type": "code",
      "execution_count": 7,
      "metadata": {
        "colab": {
          "base_uri": "https://localhost:8080/"
        },
        "id": "6Vn3T-SKs5aX",
        "outputId": "8d516b03-490f-431a-b099-77991bf9542e"
      },
      "outputs": [
        {
          "output_type": "stream",
          "name": "stdout",
          "text": [
            "['morocco', 'and', 'marrakech', 'tapestry', 'of', 'tradition', 'and', 'modernity', 'morocco', 'located', 'at', 'the', 'crossroads', 'of', 'europe', 'and', 'africa', 'is', 'country', 'drenched', 'in', 'history', 'mystery', 'and', 'cultural', 'richness', 'testament', 'to', 'the', 'ancient', 'civilizations', 'that', 'once', 'flourished', 'here', 'this', 'north', 'african', 'kingdom', 'boasts', 'unique', 'blend', 'of', 'arab', 'berber', 'and', 'european', 'influences', 'at', 'the', 'heart', 'of', 'morocco', 'rich', 'tapestry', 'lies', 'marrakech', 'one', 'of', 'its', 'four', 'imperial', 'cities', 'and', 'vibrant', 'epicenter', 'of', 'tradition', 'and', 'modernity', 'geographical', 'significance', 'morocco', 'is', 'bordered', 'by', 'the', 'atlantic', 'ocean', 'to', 'the', 'west', 'the', 'mediterranean', 'sea', 'to', 'the', 'north', 'algeria', 'to', 'the', 'east', 'and', 'southeast', 'and', 'the', 'vast', 'sahara', 'desert', 'to', 'the', 'south', 'its', 'strategic', 'location', 'has', 'historically', 'made', 'it', 'sought', 'after', 'territory', 'and', 'melting', 'pot', 'of', 'cultures', 'religions', 'and', 'trade', 'routes', 'marrakech', 'the', 'red', 'city', 'marrakech', 'often', 'referred', 'to', 'as', 'the', 'red', 'city', 'due', 'to', 'its', 'distinctive', 'red', 'hued', 'buildings', 'stands', 'against', 'the', 'backdrop', 'of', 'the', 'snow', 'capped', 'atlas', 'mountains', 'established', 'in', 'the', 'th', 'century', 'it', 'has', 'remained', 'crucial', 'political', 'economic', 'and', 'cultural', 'center', 'of', 'morocco', 'journey', 'through', 'the', 'medina', 'marrakech', 'old', 'town', 'the', 'medina', 'is', 'unesco', 'world', 'heritage', 'site', 'and', 'labyrinthine', 'maze', 'of', 'narrow', 'alleys', 'bustling', 'souks', 'and', 'historical', 'landmarks', 'the', 'djemaa', 'el', 'fna', 'square', 'lies', 'at', 'the', 'heart', 'of', 'the', 'medina', 'and', 'comes', 'alive', 'every', 'evening', 'with', 'storytellers', 'musicians', 'snake', 'charmers', 'and', 'food', 'stalls', 'offering', 'tantalizing', 'moroccan', 'delicacies', 'palaces', 'and', 'gardens', 'the', 'city', 'is', 'also', 'home', 'to', 'grand', 'palaces', 'like', 'the', 'bahia', 'palace', 'showcasing', 'intricate', 'islamic', 'architecture', 'and', 'the', 'saadian', 'tombs', 'remnants', 'of', 'the', 'saadian', 'dynasty', 'the', 'majorelle', 'garden', 'restored', 'by', 'the', 'fashion', 'designer', 'yves', 'saint', 'laurent', 'is', 'tranquil', 'oasis', 'of', 'cacti', 'palm', 'trees', 'and', 'cobalt', 'blue', 'accents', 'modern', 'marrakech', 'while', 'tradition', 'and', 'history', 'permeate', 'marrakech', 'the', 'city', 'is', 'not', 'averse', 'to', 'the', 'modern', 'world', 'gueliz', 'the', 'new', 'town', 'is', 'brimming', 'with', 'contemporary', 'art', 'galleries', 'stylish', 'cafes', 'and', 'chic', 'boutiques', 'offering', 'stark', 'contrast', 'to', 'the', 'ancient', 'medina', 'moroccan', 'cuisine', 'no', 'journey', 'through', 'morocco', 'and', 'marrakech', 'would', 'be', 'complete', 'without', 'indulging', 'in', 'the', 'local', 'cuisine', 'tagines', 'couscous', 'and', 'pastilla', 'are', 'just', 'few', 'of', 'the', 'many', 'dishes', 'that', 'combine', 'plethora', 'of', 'flavors', 'and', 'spices', 'like', 'saffron', 'cumin', 'and', 'mint', 'paired', 'with', 'moroccan', 'mint', 'tea', 'the', 'culinary', 'experience', 'is', 'truly', 'unparalleled', 'in', 'conclusion', 'morocco', 'with', 'marrakech', 'at', 'its', 'heart', 'offers', 'travelers', 'an', 'unparalleled', 'journey', 'through', 'time', 'the', 'convergence', 'of', 'history', 'culture', 'architecture', 'and', 'gastronomy', 'makes', 'it', 'an', 'enthralling', 'destination', 'for', 'those', 'seeking', 'both', 'adventure', 'and', 'reflection', 'as', 'the', 'moroccan', 'proverb', 'goes', 'he', 'who', 'does', 'not', 'travel', 'does', 'not', 'know', 'the', 'value', 'of', 'men', 'in', 'the', 'case', 'of', 'morocco', 'and', 'marrakech', 'it', 'not', 'just', 'the', 'value', 'of', 'men', 'but', 'also', 'the', 'value', 'of', 'time', 'tradition', 'and', 'tales', 'that', 'have', 'spanned', 'centuries']\n"
          ]
        }
      ],
      "source": [
        "import gensim  # Utilisation de la bibliothèque Gensim pour simplifier le prétraitement du texte.\n",
        "\n",
        "with open(\"text\", \"r\", encoding=\"utf-8\") as file:\n",
        "    tokens = gensim.utils.simple_preprocess(file.read())\n",
        "\n",
        "print(tokens)\n"
      ]
    },
    {
      "cell_type": "markdown",
      "source": [
        "## Création d'un Modèle Word2Vec Utilisant Gensim"
      ],
      "metadata": {
        "id": "Y95voUPgvJzG"
      }
    },
    {
      "cell_type": "code",
      "source": [
        "from gensim.models import Word2Vec\n",
        "\n",
        "\n",
        "model = Word2Vec([tokens], vector_size=100, window=5, min_count=1, sg=1)\n"
      ],
      "metadata": {
        "id": "PP-5Z6_bvPuw"
      },
      "execution_count": 10,
      "outputs": []
    },
    {
      "cell_type": "markdown",
      "source": [
        "# Représentation vectorielle d'un terme avec Word2Vec"
      ],
      "metadata": {
        "id": "D8GJRBUZvq60"
      }
    },
    {
      "cell_type": "code",
      "source": [
        "\n",
        "terme_vector = model.wv['europe']\n",
        "print(\"Vecteur représentant le terme 'europe':\", terme_vector)\n"
      ],
      "metadata": {
        "colab": {
          "base_uri": "https://localhost:8080/"
        },
        "id": "eQV7sZ4Ivsbp",
        "outputId": "fc04087c-07d4-4fa8-c3ce-6993e65aac4a"
      },
      "execution_count": 12,
      "outputs": [
        {
          "output_type": "stream",
          "name": "stdout",
          "text": [
            "Vecteur représentant le terme 'europe': [-1.7591126e-03  2.7932709e-03  5.5085802e-03 -8.9081484e-05\n",
            "  3.6825283e-04 -4.3294495e-03  9.0269949e-03 -6.8067061e-03\n",
            " -2.9331727e-03 -4.8555685e-03  3.7397472e-03  1.8100691e-03\n",
            " -1.1211091e-03  2.5268018e-04 -7.0529771e-03 -1.4744414e-03\n",
            "  7.6667280e-03  6.8074092e-04  9.2344219e-03 -4.1350955e-03\n",
            "  2.6208418e-03  6.0192699e-04  9.8513102e-04  1.3581080e-03\n",
            "  7.7022123e-03  4.4135801e-03 -2.0349273e-03  8.9153619e-03\n",
            "  7.5738197e-03 -5.4575973e-03  1.9157449e-04  9.6319970e-03\n",
            " -7.6107732e-03  9.3629872e-03  7.7727153e-03  7.0688622e-03\n",
            " -2.3954706e-03  3.6971814e-03  2.4771143e-03 -9.6100140e-03\n",
            " -3.2804062e-04  4.9846796e-03 -4.4403486e-03  2.1755567e-03\n",
            "  4.2876299e-03 -5.1767859e-03  6.4242943e-03 -5.1417248e-03\n",
            " -9.4907451e-03 -2.9299452e-03 -1.8216287e-03 -3.8433110e-03\n",
            "  4.8561012e-03 -1.9476201e-03 -8.6103624e-05  1.1518946e-03\n",
            "  9.3549974e-03  5.7011684e-03 -7.1060848e-03 -1.7392649e-03\n",
            "  1.9417611e-03 -9.5722023e-03 -4.4668964e-03  3.3818502e-03\n",
            "  7.3891371e-03 -9.6423468e-03 -5.7370221e-04  4.0214969e-04\n",
            "  6.4130635e-03  3.6215165e-03 -6.0636760e-03  2.7649833e-03\n",
            " -4.6535395e-03  6.0137222e-03 -1.4252505e-03  9.5490888e-03\n",
            " -8.3744824e-03 -3.5896583e-03  9.2796033e-04  4.7410033e-03\n",
            "  8.2347821e-04  7.4682217e-03  1.0477906e-03  7.7645672e-03\n",
            " -8.0592958e-03  6.1088600e-03  6.9497740e-03  1.1668502e-03\n",
            "  2.9734669e-03  5.2000498e-03  7.3432527e-03 -4.5032450e-03\n",
            "  5.8499508e-04  7.2457205e-04  4.0822574e-03  1.6623567e-03\n",
            " -8.5211154e-03 -7.2804084e-03  6.3664354e-03  7.3339897e-03]\n"
          ]
        }
      ]
    },
    {
      "cell_type": "markdown",
      "source": [
        "# Évaluation de la similarité entre deux mots"
      ],
      "metadata": {
        "id": "aJxxiJDWwJ08"
      }
    },
    {
      "cell_type": "code",
      "source": [
        "similarity_score = model.wv.similarity('europe', 'morocco')\n",
        "print(\"Score de similarité entre 'europe' et 'Morocco':\", similarity_score)"
      ],
      "metadata": {
        "colab": {
          "base_uri": "https://localhost:8080/"
        },
        "id": "WkMeI7jZwLEE",
        "outputId": "3eb8db8e-807b-4a12-ede1-0c63ac404750"
      },
      "execution_count": 14,
      "outputs": [
        {
          "output_type": "stream",
          "name": "stdout",
          "text": [
            "Score de similarité entre 'Marrakech' et 'Morocco': -0.0018862106\n"
          ]
        }
      ]
    },
    {
      "cell_type": "code",
      "source": [
        "similarity_score = model.wv.similarity('africa', 'morocco')\n",
        "print(\"Score de similarité entre 'africa' et 'Morocco':\", similarity_score)"
      ],
      "metadata": {
        "colab": {
          "base_uri": "https://localhost:8080/"
        },
        "id": "YMEg03f0wVg9",
        "outputId": "4e669bae-6858-4f83-bb91-29493b6f9179"
      },
      "execution_count": 17,
      "outputs": [
        {
          "output_type": "stream",
          "name": "stdout",
          "text": [
            "Score de similarité entre 'africa' et 'Morocco': 0.005012306\n"
          ]
        }
      ]
    },
    {
      "cell_type": "code",
      "source": [
        "similarity_score = model.wv.similarity('marrakech', 'morocco')\n",
        "print(\"Score de similarité entre 'marrakech' et 'Morocco':\", similarity_score)"
      ],
      "metadata": {
        "colab": {
          "base_uri": "https://localhost:8080/"
        },
        "id": "arhx7O0cwmCc",
        "outputId": "241bd824-1af3-4c0e-dfb3-24a64cf75b61"
      },
      "execution_count": 18,
      "outputs": [
        {
          "output_type": "stream",
          "name": "stdout",
          "text": [
            "Score de similarité entre 'marrakech' et 'Morocco': 0.22607619\n"
          ]
        }
      ]
    },
    {
      "cell_type": "markdown",
      "source": [
        "# Mots Associés à un Mot Central"
      ],
      "metadata": {
        "id": "RUeH8pXvwuL_"
      }
    },
    {
      "cell_type": "code",
      "source": [
        "mots_contextuels = model.wv.most_similar('europe', topn=3)\n",
        "print(\"Mots associés à 'Europe':\", mots_contextuels)"
      ],
      "metadata": {
        "colab": {
          "base_uri": "https://localhost:8080/"
        },
        "id": "mMs8rPYnw0Dw",
        "outputId": "7b613615-7650-4240-ecea-a1303d19cba6"
      },
      "execution_count": 20,
      "outputs": [
        {
          "output_type": "stream",
          "name": "stdout",
          "text": [
            "Mots associés à 'Europe': [('west', 0.2936742603778839), ('blend', 0.2560306489467621), ('red', 0.22956706583499908)]\n"
          ]
        }
      ]
    }
  ]
}